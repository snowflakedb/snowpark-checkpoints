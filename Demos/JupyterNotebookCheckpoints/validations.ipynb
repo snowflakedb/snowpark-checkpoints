{
 "cells": [
  {
   "cell_type": "code",
   "execution_count": 8,
   "metadata": {},
   "outputs": [],
   "source": [
    "import io, os, sys, types\n",
    "from IPython import get_ipython\n",
    "from nbformat import read\n",
    "from IPython.core.interactiveshell import InteractiveShell"
   ]
  },
  {
   "cell_type": "code",
   "execution_count": 9,
   "metadata": {},
   "outputs": [],
   "source": [
    "def find_notebook(fullname, path=None):\n",
    "    \"\"\"find a notebook, given its fully qualified name and an optional path\n",
    "\n",
    "    This turns \"foo.bar\" into \"foo/bar.ipynb\"\n",
    "    and tries turning \"Foo_Bar\" into \"Foo Bar\" if Foo_Bar\n",
    "    does not exist.\n",
    "    \"\"\"\n",
    "    name = fullname.rsplit('.', 1)[-1]\n",
    "    if not path:\n",
    "        path = ['']\n",
    "    for d in path:\n",
    "        nb_path = os.path.join(d, name + \".ipynb\")\n",
    "        if os.path.isfile(nb_path):\n",
    "            return nb_path\n",
    "        # let import Notebook_Name find \"Notebook Name.ipynb\"\n",
    "        nb_path = nb_path.replace(\"_\", \" \")\n",
    "        if os.path.isfile(nb_path):\n",
    "            return nb_path"
   ]
  },
  {
   "cell_type": "code",
   "execution_count": 10,
   "metadata": {},
   "outputs": [],
   "source": [
    "class NotebookLoader(object):\n",
    "    \"\"\"Module Loader for Jupyter Notebooks\"\"\"\n",
    "\n",
    "    def __init__(self, path=None):\n",
    "        self.shell = InteractiveShell.instance()\n",
    "        self.path = path\n",
    "\n",
    "    def load_module(self, fullname):\n",
    "        \"\"\"import a notebook as a module\"\"\"\n",
    "        path = find_notebook(fullname, self.path)\n",
    "\n",
    "        print(\"importing Jupyter notebook from %s\" % path)\n",
    "\n",
    "        # load the notebook object\n",
    "        with io.open(path, 'r', encoding='utf-8') as f:\n",
    "            nb = read(f, 4)\n",
    "\n",
    "        # create the module and add it to sys.modules\n",
    "        # if name in sys.modules:\n",
    "        #    return sys.modules[name]\n",
    "        mod = types.ModuleType(fullname)\n",
    "        mod.__file__ = path\n",
    "        mod.__loader__ = self\n",
    "        mod.__dict__['get_ipython'] = get_ipython\n",
    "        sys.modules[fullname] = mod\n",
    "\n",
    "        # extra work to ensure that magics that would affect the user_ns\n",
    "        # actually affect the notebook module's ns\n",
    "        save_user_ns = self.shell.user_ns\n",
    "        self.shell.user_ns = mod.__dict__\n",
    "\n",
    "        try:\n",
    "            for cell in nb.cells:\n",
    "                if cell.cell_type == 'code':\n",
    "                    # transform the input to executable Python\n",
    "                    code = self.shell.input_transformer_manager.transform_cell(cell.source)\n",
    "                    # run the code in themodule\n",
    "                    exec(code, mod.__dict__)\n",
    "        finally:\n",
    "            self.shell.user_ns = save_user_ns\n",
    "        return mod"
   ]
  },
  {
   "cell_type": "code",
   "execution_count": 11,
   "metadata": {},
   "outputs": [],
   "source": [
    "class NotebookFinder(object):\n",
    "    \"\"\"Module finder that locates Jupyter Notebooks\"\"\"\n",
    "\n",
    "    def __init__(self):\n",
    "        self.loaders = {}\n",
    "\n",
    "    def find_module(self, fullname, path=None):\n",
    "        nb_path = find_notebook(fullname, path)\n",
    "        if not nb_path:\n",
    "            return\n",
    "\n",
    "        key = path\n",
    "        if path:\n",
    "            # lists aren't hashable\n",
    "            key = os.path.sep.join(path)\n",
    "\n",
    "        if key not in self.loaders:\n",
    "            self.loaders[key] = NotebookLoader(path)\n",
    "        return self.loaders[key]"
   ]
  },
  {
   "cell_type": "code",
   "execution_count": 12,
   "metadata": {},
   "outputs": [],
   "source": [
    "sys.meta_path.append(NotebookFinder())"
   ]
  },
  {
   "cell_type": "code",
   "execution_count": 13,
   "metadata": {},
   "outputs": [
    {
     "name": "stdout",
     "output_type": "stream",
     "text": [
      ".//Snowpark/SMA_Output/DataFrame_Operations.ipynb\n",
      ".//validations.ipynb\n",
      ".//Spark/src/DataFrame_Operations.ipynb\n"
     ]
    }
   ],
   "source": [
    "!find ./ | grep .ipynb"
   ]
  },
  {
   "cell_type": "markdown",
   "metadata": {},
   "source": [
    "### Load Spark and Snowpark functions from Jupyter Notebooks"
   ]
  },
  {
   "cell_type": "code",
   "execution_count": 15,
   "metadata": {},
   "outputs": [
    {
     "ename": "ImportError",
     "evalue": "cannot import name 'first_sport_item' from 'Spark.src.DataFrame_Operations' (/Users/kjimenezmorales/Downloads/CheckpointsDemo/Spark/src/DataFrame_Operations.ipynb)",
     "output_type": "error",
     "traceback": [
      "\u001b[0;31m---------------------------------------------------------------------------\u001b[0m",
      "\u001b[0;31mImportError\u001b[0m                               Traceback (most recent call last)",
      "Cell \u001b[0;32mIn[15], line 1\u001b[0m\n\u001b[0;32m----> 1\u001b[0m \u001b[38;5;28;01mfrom\u001b[39;00m \u001b[38;5;21;01mSpark\u001b[39;00m\u001b[38;5;21;01m.\u001b[39;00m\u001b[38;5;21;01msrc\u001b[39;00m\u001b[38;5;21;01m.\u001b[39;00m\u001b[38;5;21;01mDataFrame_Operations\u001b[39;00m \u001b[38;5;28;01mimport\u001b[39;00m filter_products \u001b[38;5;28;01mas\u001b[39;00m spark_filter_products, first_sport_item \u001b[38;5;28;01mas\u001b[39;00m spark_first_sport_item, df \u001b[38;5;28;01mas\u001b[39;00m spark_df\n\u001b[1;32m      2\u001b[0m \u001b[38;5;28;01mfrom\u001b[39;00m \u001b[38;5;21;01mSnowpark\u001b[39;00m\u001b[38;5;21;01m.\u001b[39;00m\u001b[38;5;21;01mSMA_Output\u001b[39;00m\u001b[38;5;21;01m.\u001b[39;00m\u001b[38;5;21;01mDataFrame_Operations\u001b[39;00m \u001b[38;5;28;01mimport\u001b[39;00m filter_products \u001b[38;5;28;01mas\u001b[39;00m snowpark_filter_products, first_sport_item \u001b[38;5;28;01mas\u001b[39;00m snowpark_first_sport_item, df \u001b[38;5;28;01mas\u001b[39;00m sf_df\n",
      "\u001b[0;31mImportError\u001b[0m: cannot import name 'first_sport_item' from 'Spark.src.DataFrame_Operations' (/Users/kjimenezmorales/Downloads/CheckpointsDemo/Spark/src/DataFrame_Operations.ipynb)"
     ]
    }
   ],
   "source": [
    "from Spark.src.DataFrame_Operations import filter_products as spark_filter_products, first_sport_item as spark_first_sport_item, df as spark_df\n",
    "from Snowpark.SMA_Output.DataFrame_Operations import filter_products as snowpark_filter_products, first_sport_item as snowpark_first_sport_item, df as sf_df"
   ]
  },
  {
   "cell_type": "markdown",
   "metadata": {},
   "source": [
    "### Setup up a SnowparkJobContext instance"
   ]
  },
  {
   "cell_type": "code",
   "execution_count": null,
   "metadata": {},
   "outputs": [],
   "source": [
    "from snowflake.snowpark import Session\n",
    "from pyspark.sql import SparkSession\n",
    "from snowflake.snowpark_checkpoints.job_context import SnowparkJobContext\n",
    "\n",
    "snowpark_session = Session.builder.config(\"connection_name\", \"checkpoint_demo\").getOrCreate()\n",
    "spark_session = SparkSession.builder.getOrCreate()\n",
    "job_context = SnowparkJobContext(snowpark_session, spark_session, \"demo_job\", True)"
   ]
  },
  {
   "cell_type": "markdown",
   "metadata": {},
   "source": [
    "### Step 3: check_pandera_df_schema_file"
   ]
  },
  {
   "cell_type": "code",
   "execution_count": null,
   "metadata": {},
   "outputs": [],
   "source": [
    "from snowflake.snowpark_checkpoints import check_pandera_df_schema_file\n",
    "\n",
    "snowpark_df = snowpark_filter_products()\n",
    "\n",
    "checkpoint_path = os.path.join(os.getcwd(), \"Spark/src/snowpark-filtered_data-schema.json\")\n",
    "\n",
    "check_pandera_df_schema_file(\n",
    "  df=snowpark_df, \n",
    "  job_context=job_context, \n",
    "  file_path= checkpoint_path\n",
    ")"
   ]
  },
  {
   "cell_type": "markdown",
   "metadata": {},
   "source": [
    "### Step 4: check_with_spark"
   ]
  },
  {
   "cell_type": "code",
   "execution_count": null,
   "metadata": {},
   "outputs": [],
   "source": [
    "from snowflake.snowpark_checkpoints import check_with_spark\n",
    "from snowflake.snowpark_checkpoints.spark_migration import SamplingStrategy\n",
    "\n",
    "\n",
    "def test_spark_first_sport_item():\n",
    "  return spark_first_sport_item(spark_df)\n",
    "\n",
    "@check_with_spark(\n",
    "  job_context=job_context, \n",
    "  spark_function=test_spark_first_sport_item,\n",
    "  sample=100, \n",
    "  sampling_strategy=SamplingStrategy.RANDOM_SAMPLE\n",
    ")\n",
    "def test_snowpark_first_sport_item():\n",
    "  return snowpark_first_sport_item(sf_df)\n",
    "\n",
    "test_snowpark_first_sport_item()"
   ]
  }
 ],
 "metadata": {
  "kernelspec": {
   "display_name": "py311",
   "language": "python",
   "name": "python3"
  },
  "language_info": {
   "codemirror_mode": {
    "name": "ipython",
    "version": 3
   },
   "file_extension": ".py",
   "mimetype": "text/x-python",
   "name": "python",
   "nbconvert_exporter": "python",
   "pygments_lexer": "ipython3",
   "version": "3.11.5"
  }
 },
 "nbformat": 4,
 "nbformat_minor": 2
}
